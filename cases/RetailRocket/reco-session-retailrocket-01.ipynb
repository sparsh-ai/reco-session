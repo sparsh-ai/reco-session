{
 "cells": [
  {
   "cell_type": "markdown",
   "metadata": {},
   "source": [
    "*Note: run command ```D:\\elasticsearch-7.12.1\\bin\\elasticsearch``` in the terminal to start elasticsearch server*\n",
    "\n",
    "(change path accordingly)"
   ]
  },
  {
   "cell_type": "code",
   "execution_count": 16,
   "metadata": {},
   "outputs": [],
   "source": [
    "import os\n",
    "import pandas as pd\n",
    "import numpy as np\n",
    "\n",
    "import warnings\n",
    "warnings.filterwarnings(\"ignore\")"
   ]
  },
  {
   "cell_type": "code",
   "execution_count": 3,
   "metadata": {},
   "outputs": [],
   "source": [
    "data_path = './data'"
   ]
  },
  {
   "cell_type": "code",
   "execution_count": 6,
   "metadata": {},
   "outputs": [
    {
     "data": {
      "text/plain": [
       "(2756101, 5)"
      ]
     },
     "execution_count": 6,
     "metadata": {},
     "output_type": "execute_result"
    }
   ],
   "source": [
    "df = pd.read_csv(os.path.join(data_path,'events.csv'))\n",
    "df.shape"
   ]
  },
  {
   "cell_type": "code",
   "execution_count": 7,
   "metadata": {},
   "outputs": [
    {
     "data": {
      "text/html": [
       "<div>\n",
       "<style scoped>\n",
       "    .dataframe tbody tr th:only-of-type {\n",
       "        vertical-align: middle;\n",
       "    }\n",
       "\n",
       "    .dataframe tbody tr th {\n",
       "        vertical-align: top;\n",
       "    }\n",
       "\n",
       "    .dataframe thead th {\n",
       "        text-align: right;\n",
       "    }\n",
       "</style>\n",
       "<table border=\"1\" class=\"dataframe\">\n",
       "  <thead>\n",
       "    <tr style=\"text-align: right;\">\n",
       "      <th></th>\n",
       "      <th>timestamp</th>\n",
       "      <th>visitorid</th>\n",
       "      <th>event</th>\n",
       "      <th>itemid</th>\n",
       "      <th>transactionid</th>\n",
       "    </tr>\n",
       "  </thead>\n",
       "  <tbody>\n",
       "    <tr>\n",
       "      <th>0</th>\n",
       "      <td>1433221332117</td>\n",
       "      <td>257597</td>\n",
       "      <td>view</td>\n",
       "      <td>355908</td>\n",
       "      <td>NaN</td>\n",
       "    </tr>\n",
       "    <tr>\n",
       "      <th>1</th>\n",
       "      <td>1433224214164</td>\n",
       "      <td>992329</td>\n",
       "      <td>view</td>\n",
       "      <td>248676</td>\n",
       "      <td>NaN</td>\n",
       "    </tr>\n",
       "    <tr>\n",
       "      <th>2</th>\n",
       "      <td>1433221999827</td>\n",
       "      <td>111016</td>\n",
       "      <td>view</td>\n",
       "      <td>318965</td>\n",
       "      <td>NaN</td>\n",
       "    </tr>\n",
       "    <tr>\n",
       "      <th>3</th>\n",
       "      <td>1433221955914</td>\n",
       "      <td>483717</td>\n",
       "      <td>view</td>\n",
       "      <td>253185</td>\n",
       "      <td>NaN</td>\n",
       "    </tr>\n",
       "    <tr>\n",
       "      <th>4</th>\n",
       "      <td>1433221337106</td>\n",
       "      <td>951259</td>\n",
       "      <td>view</td>\n",
       "      <td>367447</td>\n",
       "      <td>NaN</td>\n",
       "    </tr>\n",
       "  </tbody>\n",
       "</table>\n",
       "</div>"
      ],
      "text/plain": [
       "       timestamp  visitorid event  itemid  transactionid\n",
       "0  1433221332117     257597  view  355908            NaN\n",
       "1  1433224214164     992329  view  248676            NaN\n",
       "2  1433221999827     111016  view  318965            NaN\n",
       "3  1433221955914     483717  view  253185            NaN\n",
       "4  1433221337106     951259  view  367447            NaN"
      ]
     },
     "execution_count": 7,
     "metadata": {},
     "output_type": "execute_result"
    }
   ],
   "source": [
    "df.head()"
   ]
  },
  {
   "cell_type": "code",
   "execution_count": 8,
   "metadata": {},
   "outputs": [
    {
     "data": {
      "text/plain": [
       "array(['view', 'addtocart', 'transaction'], dtype=object)"
      ]
     },
     "execution_count": 8,
     "metadata": {},
     "output_type": "execute_result"
    }
   ],
   "source": [
    "df.event.unique()"
   ]
  },
  {
   "cell_type": "code",
   "execution_count": 9,
   "metadata": {},
   "outputs": [
    {
     "data": {
      "text/plain": [
       "(22457, 5)"
      ]
     },
     "execution_count": 9,
     "metadata": {},
     "output_type": "execute_result"
    }
   ],
   "source": [
    "trans = df[df['event'] == 'transaction']\n",
    "trans.shape"
   ]
  },
  {
   "cell_type": "code",
   "execution_count": 10,
   "metadata": {},
   "outputs": [
    {
     "name": "stdout",
     "output_type": "stream",
     "text": [
      "(11719,)\n",
      "(12025,)\n"
     ]
    }
   ],
   "source": [
    "visitors = trans['visitorid'].unique()\n",
    "items = trans['itemid'].unique()\n",
    "print(visitors.shape)\n",
    "print(items.shape)"
   ]
  },
  {
   "cell_type": "code",
   "execution_count": 11,
   "metadata": {},
   "outputs": [
    {
     "data": {
      "text/plain": [
       "(19939, 5)"
      ]
     },
     "execution_count": 11,
     "metadata": {},
     "output_type": "execute_result"
    }
   ],
   "source": [
    "trans2 = trans.groupby(['visitorid']).head(50)\n",
    "trans2.shape"
   ]
  },
  {
   "cell_type": "code",
   "execution_count": 17,
   "metadata": {},
   "outputs": [
    {
     "data": {
      "text/html": [
       "<div>\n",
       "<style scoped>\n",
       "    .dataframe tbody tr th:only-of-type {\n",
       "        vertical-align: middle;\n",
       "    }\n",
       "\n",
       "    .dataframe tbody tr th {\n",
       "        vertical-align: top;\n",
       "    }\n",
       "\n",
       "    .dataframe thead th {\n",
       "        text-align: right;\n",
       "    }\n",
       "</style>\n",
       "<table border=\"1\" class=\"dataframe\">\n",
       "  <thead>\n",
       "    <tr style=\"text-align: right;\">\n",
       "      <th></th>\n",
       "      <th>timestamp</th>\n",
       "      <th>visitorid</th>\n",
       "      <th>event</th>\n",
       "      <th>itemid</th>\n",
       "      <th>transactionid</th>\n",
       "      <th>visitors</th>\n",
       "      <th>items</th>\n",
       "    </tr>\n",
       "  </thead>\n",
       "  <tbody>\n",
       "    <tr>\n",
       "      <th>130</th>\n",
       "      <td>1433222276276</td>\n",
       "      <td>599528</td>\n",
       "      <td>transaction</td>\n",
       "      <td>356475</td>\n",
       "      <td>4000.0</td>\n",
       "      <td>0</td>\n",
       "      <td>0</td>\n",
       "    </tr>\n",
       "    <tr>\n",
       "      <th>304</th>\n",
       "      <td>1433193500981</td>\n",
       "      <td>121688</td>\n",
       "      <td>transaction</td>\n",
       "      <td>15335</td>\n",
       "      <td>11117.0</td>\n",
       "      <td>1</td>\n",
       "      <td>1</td>\n",
       "    </tr>\n",
       "    <tr>\n",
       "      <th>418</th>\n",
       "      <td>1433193915008</td>\n",
       "      <td>552148</td>\n",
       "      <td>transaction</td>\n",
       "      <td>81345</td>\n",
       "      <td>5444.0</td>\n",
       "      <td>2</td>\n",
       "      <td>2</td>\n",
       "    </tr>\n",
       "    <tr>\n",
       "      <th>814</th>\n",
       "      <td>1433176736375</td>\n",
       "      <td>102019</td>\n",
       "      <td>transaction</td>\n",
       "      <td>150318</td>\n",
       "      <td>13556.0</td>\n",
       "      <td>3</td>\n",
       "      <td>3</td>\n",
       "    </tr>\n",
       "    <tr>\n",
       "      <th>843</th>\n",
       "      <td>1433174518180</td>\n",
       "      <td>189384</td>\n",
       "      <td>transaction</td>\n",
       "      <td>310791</td>\n",
       "      <td>7244.0</td>\n",
       "      <td>4</td>\n",
       "      <td>4</td>\n",
       "    </tr>\n",
       "  </tbody>\n",
       "</table>\n",
       "</div>"
      ],
      "text/plain": [
       "         timestamp  visitorid        event  itemid  transactionid  visitors  \\\n",
       "130  1433222276276     599528  transaction  356475         4000.0         0   \n",
       "304  1433193500981     121688  transaction   15335        11117.0         1   \n",
       "418  1433193915008     552148  transaction   81345         5444.0         2   \n",
       "814  1433176736375     102019  transaction  150318        13556.0         3   \n",
       "843  1433174518180     189384  transaction  310791         7244.0         4   \n",
       "\n",
       "     items  \n",
       "130      0  \n",
       "304      1  \n",
       "418      2  \n",
       "814      3  \n",
       "843      4  "
      ]
     },
     "execution_count": 17,
     "metadata": {},
     "output_type": "execute_result"
    }
   ],
   "source": [
    "trans2.loc[:,'visitors'] = trans2['visitorid'].apply(lambda x : np.argwhere(visitors == x)[0][0])\n",
    "trans2.loc[:,'items'] = trans2['itemid'].apply(lambda x : np.argwhere(items == x)[0][0])\n",
    "trans2.head()"
   ]
  },
  {
   "cell_type": "code",
   "execution_count": 18,
   "metadata": {},
   "outputs": [],
   "source": [
    "from scipy.sparse import csr_matrix"
   ]
  },
  {
   "cell_type": "code",
   "execution_count": 19,
   "metadata": {},
   "outputs": [
    {
     "data": {
      "text/plain": [
       "<11719x12025 sparse matrix of type '<class 'numpy.int8'>'\n",
       "\twith 18905 stored elements in Compressed Sparse Row format>"
      ]
     },
     "execution_count": 19,
     "metadata": {},
     "output_type": "execute_result"
    }
   ],
   "source": [
    "occurences = csr_matrix((visitors.shape[0], items.shape[0]), dtype='int8')\n",
    "def set_occurences(visitor, item):\n",
    "    occurences[visitor, item] += 1\n",
    "trans2.apply(lambda row: set_occurences(row['visitors'], row['items']), axis=1)\n",
    "occurences"
   ]
  },
  {
   "cell_type": "code",
   "execution_count": 20,
   "metadata": {},
   "outputs": [],
   "source": [
    "cooc = occurences.transpose().dot(occurences)\n",
    "cooc.setdiag(0)"
   ]
  },
  {
   "cell_type": "code",
   "execution_count": 21,
   "metadata": {},
   "outputs": [],
   "source": [
    "def xLogX(x):\n",
    "    return x * np.log(x) if x != 0 else 0.0\n",
    "\n",
    "def entropy(x1, x2=0, x3=0, x4=0):\n",
    "    return xLogX(x1 + x2 + x3 + x4) - xLogX(x1) - xLogX(x2) - xLogX(x3) - xLogX(x4)\n",
    "\n",
    "def LLR(k11, k12, k21, k22):\n",
    "    rowEntropy = entropy(k11 + k12, k21 + k22)\n",
    "    columnEntropy = entropy(k11 + k21, k12 + k22)\n",
    "    matrixEntropy = entropy(k11, k12, k21, k22)\n",
    "    if rowEntropy + columnEntropy < matrixEntropy:\n",
    "        return 0.0\n",
    "    return 2.0 * (rowEntropy + columnEntropy - matrixEntropy)\n",
    "\n",
    "def rootLLR(k11, k12, k21, k22):\n",
    "    llr = LLR(k11, k12, k21, k22)\n",
    "    sqrt = np.sqrt(llr)\n",
    "    if k11 * 1.0 / (k11 + k12) < k21 * 1.0 / (k21 + k22):\n",
    "        sqrt = -sqrt\n",
    "    return sqrt"
   ]
  },
  {
   "cell_type": "code",
   "execution_count": 22,
   "metadata": {},
   "outputs": [],
   "source": [
    "row_sum = np.sum(cooc, axis=0).A.flatten()\n",
    "column_sum = np.sum(cooc, axis=1).A.flatten()\n",
    "total = np.sum(row_sum, axis=0)\n",
    "pp_score = csr_matrix((cooc.shape[0], cooc.shape[1]), dtype='double')\n",
    "cx = cooc.tocoo()\n",
    "for i,j,v in zip(cx.row, cx.col, cx.data):\n",
    "    if v != 0:\n",
    "        k11 = v\n",
    "        k12 = row_sum[i] - k11\n",
    "        k21 = column_sum[j] - k11\n",
    "        k22 = total - k11 - k12 - k21\n",
    "        pp_score[i,j] = rootLLR(k11, k12, k21, k22)"
   ]
  },
  {
   "cell_type": "code",
   "execution_count": 23,
   "metadata": {},
   "outputs": [],
   "source": [
    "result = np.flip(np.sort(pp_score.A, axis=1), axis=1)\n",
    "result_indices = np.flip(np.argsort(pp_score.A, axis=1), axis=1)"
   ]
  },
  {
   "cell_type": "code",
   "execution_count": 24,
   "metadata": {},
   "outputs": [
    {
     "data": {
      "text/plain": [
       "array([15.33511076, 14.60017668,  3.62091635, ...,  0.        ,\n",
       "        0.        ,  0.        ])"
      ]
     },
     "execution_count": 24,
     "metadata": {},
     "output_type": "execute_result"
    }
   ],
   "source": [
    "result[8456]"
   ]
  },
  {
   "cell_type": "code",
   "execution_count": 25,
   "metadata": {},
   "outputs": [
    {
     "data": {
      "text/plain": [
       "array([8682,  380, 8501, ..., 8010, 8009,    0], dtype=int64)"
      ]
     },
     "execution_count": 25,
     "metadata": {},
     "output_type": "execute_result"
    }
   ],
   "source": [
    "result_indices[8456]"
   ]
  },
  {
   "cell_type": "markdown",
   "metadata": {},
   "source": [
    "After adjusting for biases (e.g. popularity bias, trend bias etc.) using LLR method, item 8682 with score 15.34 and 380 with score 14.6 (respectively) have high co-occurence with item 8456. It means that, if someone bought 8682 and 380, we can recommend him 8456."
   ]
  },
  {
   "cell_type": "code",
   "execution_count": 26,
   "metadata": {},
   "outputs": [],
   "source": [
    "minLLR = 5\n",
    "indicators = result[:, :50]\n",
    "indicators[indicators < minLLR] = 0.0\n",
    "indicators_indices = result_indices[:, :50]\n",
    "max_indicator_indices = (indicators==0).argmax(axis=1)\n",
    "max = max_indicator_indices.max()\n",
    "indicators = indicators[:, :max+1]\n",
    "indicators_indices = indicators_indices[:, :max+1]"
   ]
  },
  {
   "cell_type": "code",
   "execution_count": 27,
   "metadata": {},
   "outputs": [],
   "source": [
    "import requests\n",
    "import json"
   ]
  },
  {
   "cell_type": "code",
   "execution_count": 28,
   "metadata": {},
   "outputs": [],
   "source": [
    "actions = []\n",
    "\n",
    "for i in range(indicators.shape[0]):\n",
    "    length = indicators[i].nonzero()[0].shape[0]\n",
    "    real_indicators = items[indicators_indices[i, :length]].astype(\"int\").tolist()\n",
    "    id = items[i]\n",
    "    \n",
    "    action = { \"index\" : { \"_index\" : \"items2\", \"_id\" : str(id) } }\n",
    "    \n",
    "    data = {\n",
    "        \"id\": int(id),\n",
    "        \"indicators\": real_indicators\n",
    "    }\n",
    "    \n",
    "    actions.append(json.dumps(action))\n",
    "    actions.append(json.dumps(data))\n",
    "    \n",
    "    if len(actions) == 200:\n",
    "        actions_string = \"\\n\".join(actions) + \"\\n\"\n",
    "        actions = []\n",
    "        \n",
    "        url = \"http://127.0.0.1:9200/_bulk/\"\n",
    "        headers = {\n",
    "            \"Content-Type\" : \"application/x-ndjson\"\n",
    "        }\n",
    "        requests.post(url, headers=headers, data=actions_string)\n",
    "        \n",
    "if len(actions) > 0:\n",
    "    actions_string = \"\\n\".join(actions) + \"\\n\"\n",
    "    actions = []\n",
    "    url = \"http://127.0.0.1:9200/_bulk/\"\n",
    "    headers = {\n",
    "        \"Content-Type\" : \"application/x-ndjson\"\n",
    "    }\n",
    "    requests.post(url, headers=headers, data=actions_string)"
   ]
  },
  {
   "cell_type": "code",
   "execution_count": null,
   "metadata": {},
   "outputs": [],
   "source": [
    "from IPython.display import JSON"
   ]
  },
  {
   "cell_type": "code",
   "execution_count": 42,
   "metadata": {},
   "outputs": [
    {
     "data": {
      "application/json": {
       "_shards": {
        "failed": 0,
        "skipped": 0,
        "successful": 1,
        "total": 1
       },
       "count": 12025
      },
      "text/plain": [
       "<IPython.core.display.JSON object>"
      ]
     },
     "execution_count": 42,
     "metadata": {
      "application/json": {
       "expanded": true,
       "root": "root"
      }
     },
     "output_type": "execute_result"
    }
   ],
   "source": [
    "url = 'http://127.0.0.1:9200/items2/_count'\n",
    "headers = {'Content-Type':'application/x-ndjson'}\n",
    "res = requests.post(url, headers=headers)\n",
    "JSON(res.text, expanded=True)"
   ]
  },
  {
   "cell_type": "code",
   "execution_count": 73,
   "metadata": {},
   "outputs": [],
   "source": [
    "# url = 'http://127.0.0.1:9200/items2/_search?pretty&size=2'\n",
    "# headers = {'Content-Type':'application/x-ndjson'}\n",
    "# res = requests.get(url, headers=headers)\n",
    "# JSON(res.text, expanded=True)"
   ]
  },
  {
   "cell_type": "code",
   "execution_count": 75,
   "metadata": {},
   "outputs": [
    {
     "data": {
      "application/json": {
       "id": 240708,
       "indicators": [
        305675,
        346067,
        312728
       ]
      },
      "text/plain": [
       "<IPython.core.display.JSON object>"
      ]
     },
     "execution_count": 75,
     "metadata": {
      "application/json": {
       "expanded": true,
       "root": "root"
      }
     },
     "output_type": "execute_result"
    }
   ],
   "source": [
    "url = 'http://127.0.0.1:9200/items2/_source/240708'\n",
    "headers = {'Content-Type':'application/x-ndjson'}\n",
    "res = requests.get(url, headers=headers)\n",
    "JSON(res.text, expanded=True)"
   ]
  },
  {
   "cell_type": "code",
   "execution_count": 85,
   "metadata": {},
   "outputs": [
    {
     "data": {
      "application/json": {
       "_shards": {
        "failed": 0,
        "skipped": 0,
        "successful": 1,
        "total": 1
       },
       "hits": {
        "hits": [
         {
          "_id": "312728",
          "_index": "items2",
          "_score": 2,
          "_source": {
           "id": 312728,
           "indicators": [
            143860,
            305675,
            156552,
            152262,
            353436,
            182157,
            454183,
            240708,
            179290
           ]
          },
          "_type": "_doc"
         },
         {
          "_id": "305675",
          "_index": "items2",
          "_score": 2,
          "_source": {
           "id": 305675,
           "indicators": [
            240708,
            346067,
            312728,
            322810,
            176106,
            122219,
            338427,
            281212,
            306396,
            238766,
            253615,
            303960,
            446820,
            346384,
            99907,
            161354
           ]
          },
          "_type": "_doc"
         },
         {
          "_id": "346067",
          "_index": "items2",
          "_score": 2,
          "_source": {
           "id": 346067,
           "indicators": [
            305675,
            240708
           ]
          },
          "_type": "_doc"
         }
        ],
        "max_score": 2,
        "total": {
         "relation": "eq",
         "value": 3
        }
       },
       "timed_out": false,
       "took": 11
      },
      "text/plain": [
       "<IPython.core.display.JSON object>"
      ]
     },
     "execution_count": 85,
     "metadata": {
      "application/json": {
       "expanded": true,
       "root": "root"
      }
     },
     "output_type": "execute_result"
    }
   ],
   "source": [
    "url = 'http://127.0.0.1:9200/items2/_search'\n",
    "headers = {'Content-Type':'application/x-ndjson'}\n",
    "data = {\n",
    "  'query': {\n",
    "    'bool': {\n",
    "     'should': [\n",
    "      { 'terms': {'indicators' : [240708], 'boost': 2}}\n",
    "     ]\n",
    "    }\n",
    "  }\n",
    "}\n",
    "res = requests.post(url, headers=headers, data=json.dumps(data))\n",
    "JSON(res.text, expanded=True)"
   ]
  },
  {
   "cell_type": "code",
   "execution_count": 86,
   "metadata": {},
   "outputs": [
    {
     "data": {
      "application/json": {
       "_shards": {
        "failed": 0,
        "skipped": 0,
        "successful": 1,
        "total": 1
       },
       "hits": {
        "hits": [
         {
          "_id": "312728",
          "_index": "items2",
          "_score": 1.000001,
          "_source": {
           "id": 312728,
           "indicators": [
            143860,
            305675,
            156552,
            152262,
            353436,
            182157,
            454183,
            240708,
            179290
           ]
          },
          "_type": "_doc"
         },
         {
          "_id": "305675",
          "_index": "items2",
          "_score": 1.000001,
          "_source": {
           "id": 305675,
           "indicators": [
            240708,
            346067,
            312728,
            322810,
            176106,
            122219,
            338427,
            281212,
            306396,
            238766,
            253615,
            303960,
            446820,
            346384,
            99907,
            161354
           ]
          },
          "_type": "_doc"
         },
         {
          "_id": "346067",
          "_index": "items2",
          "_score": 1.000001,
          "_source": {
           "id": 346067,
           "indicators": [
            305675,
            240708
           ]
          },
          "_type": "_doc"
         },
         {
          "_id": "356475",
          "_index": "items2",
          "_score": 1e-06,
          "_source": {
           "id": 356475,
           "indicators": []
          },
          "_type": "_doc"
         },
         {
          "_id": "15335",
          "_index": "items2",
          "_score": 1e-06,
          "_source": {
           "id": 15335,
           "indicators": []
          },
          "_type": "_doc"
         },
         {
          "_id": "81345",
          "_index": "items2",
          "_score": 1e-06,
          "_source": {
           "id": 81345,
           "indicators": []
          },
          "_type": "_doc"
         },
         {
          "_id": "150318",
          "_index": "items2",
          "_score": 1e-06,
          "_source": {
           "id": 150318,
           "indicators": [
            49521
           ]
          },
          "_type": "_doc"
         },
         {
          "_id": "310791",
          "_index": "items2",
          "_score": 1e-06,
          "_source": {
           "id": 310791,
           "indicators": []
          },
          "_type": "_doc"
         },
         {
          "_id": "54058",
          "_index": "items2",
          "_score": 1e-06,
          "_source": {
           "id": 54058,
           "indicators": []
          },
          "_type": "_doc"
         },
         {
          "_id": "284871",
          "_index": "items2",
          "_score": 1e-06,
          "_source": {
           "id": 284871,
           "indicators": []
          },
          "_type": "_doc"
         }
        ],
        "max_score": 1.000001,
        "total": {
         "relation": "gte",
         "value": 10000
        }
       },
       "timed_out": false,
       "took": 79
      },
      "text/plain": [
       "<IPython.core.display.JSON object>"
      ]
     },
     "execution_count": 86,
     "metadata": {
      "application/json": {
       "expanded": true,
       "root": "root"
      }
     },
     "output_type": "execute_result"
    }
   ],
   "source": [
    "url = 'http://127.0.0.1:9200/items2/_search'\n",
    "headers = {'Content-Type':'application/x-ndjson'}\n",
    "data = {\n",
    "  \"query\": {\n",
    "    \"bool\": {\n",
    "     \"should\": [\n",
    "      { \"terms\": {\"indicators\" : [240708]}},\n",
    "      { \"constant_score\": {\"filter\" : {\"match_all\": {}}, \"boost\" : 0.000001}}\n",
    "     ]\n",
    "    }\n",
    "  }\n",
    "}\n",
    "res = requests.post(url, headers=headers, data=json.dumps(data))\n",
    "JSON(res.text, expanded=True)"
   ]
  },
  {
   "cell_type": "code",
   "execution_count": 87,
   "metadata": {},
   "outputs": [
    {
     "data": {
      "text/plain": [
       "130        None\n",
       "304        None\n",
       "418        None\n",
       "814        None\n",
       "843        None\n",
       "           ... \n",
       "2755082    None\n",
       "2755285    None\n",
       "2755294    None\n",
       "2755508    None\n",
       "2755607    None\n",
       "Length: 19939, dtype: object"
      ]
     },
     "execution_count": 87,
     "metadata": {},
     "output_type": "execute_result"
    }
   ],
   "source": [
    "popular = np.zeros(items.shape[0])\n",
    "def inc_popular(index):\n",
    "    popular[index] += 1\n",
    "trans2.apply(lambda row: inc_popular(row['items']), axis=1)"
   ]
  },
  {
   "cell_type": "code",
   "execution_count": 89,
   "metadata": {},
   "outputs": [],
   "source": [
    "actions = []\n",
    "\n",
    "for i in range(indicators.shape[0]):\n",
    "    length = indicators[i].nonzero()[0].shape[0]\n",
    "    real_indicators = items[indicators_indices[i, :length]].astype(\"int\").tolist()\n",
    "    id = items[i]\n",
    "    \n",
    "    action = { \"index\" : { \"_index\" : \"items3\", \"_id\" : str(id) } }\n",
    "\n",
    "    data = {\n",
    "        \"id\": int(id),\n",
    "        \"indicators\": real_indicators,\n",
    "        \"popular\": popular[i]\n",
    "    }\n",
    "    \n",
    "    actions.append(json.dumps(action))\n",
    "    actions.append(json.dumps(data))\n",
    "    \n",
    "    if len(actions) == 200:\n",
    "        actions_string = \"\\n\".join(actions) + \"\\n\"\n",
    "        actions = []\n",
    "        \n",
    "        url = \"http://127.0.0.1:9200/_bulk/\"\n",
    "        headers = {\n",
    "            \"Content-Type\" : \"application/x-ndjson\"\n",
    "        }\n",
    "        requests.post(url, headers=headers, data=actions_string)\n",
    "        \n",
    "if len(actions) > 0:\n",
    "    actions_string = \"\\n\".join(actions) + \"\\n\"\n",
    "    actions = []\n",
    "    url = \"http://127.0.0.1:9200/_bulk/\"\n",
    "    headers = {\n",
    "        \"Content-Type\" : \"application/x-ndjson\"\n",
    "    }\n",
    "    requests.post(url, headers=headers, data=actions_string)"
   ]
  },
  {
   "cell_type": "code",
   "execution_count": 90,
   "metadata": {},
   "outputs": [
    {
     "data": {
      "application/json": {
       "id": 240708,
       "indicators": [
        305675,
        346067,
        312728
       ],
       "popular": 3
      },
      "text/plain": [
       "<IPython.core.display.JSON object>"
      ]
     },
     "execution_count": 90,
     "metadata": {
      "application/json": {
       "expanded": true,
       "root": "root"
      }
     },
     "output_type": "execute_result"
    }
   ],
   "source": [
    "url = 'http://127.0.0.1:9200/items3/_source/240708'\n",
    "headers = {'Content-Type':'application/x-ndjson'}\n",
    "res = requests.get(url, headers=headers)\n",
    "JSON(res.text, expanded=True)"
   ]
  },
  {
   "cell_type": "code",
   "execution_count": 95,
   "metadata": {},
   "outputs": [
    {
     "data": {
      "application/json": {
       "_shards": {
        "failed": 0,
        "skipped": 0,
        "successful": 1,
        "total": 1
       },
       "hits": {
        "hits": [
         {
          "_id": "312728",
          "_index": "items3",
          "_score": 9.200005,
          "_source": {
           "id": 312728,
           "indicators": [
            143860,
            305675,
            156552,
            152262,
            353436,
            182157,
            454183,
            240708,
            179290
           ],
           "popular": 46
          },
          "_type": "_doc"
         },
         {
          "_id": "305675",
          "_index": "items3",
          "_score": 1.4000007,
          "_source": {
           "id": 305675,
           "indicators": [
            240708,
            346067,
            312728,
            322810,
            176106,
            122219,
            338427,
            281212,
            306396,
            238766,
            253615,
            303960,
            446820,
            346384,
            99907,
            161354
           ],
           "popular": 7
          },
          "_type": "_doc"
         },
         {
          "_id": "346067",
          "_index": "items3",
          "_score": 1.2000005,
          "_source": {
           "id": 346067,
           "indicators": [
            305675,
            240708
           ],
           "popular": 6
          },
          "_type": "_doc"
         },
         {
          "_id": "461686",
          "_index": "items3",
          "_score": 1.3e-05,
          "_source": {
           "id": 461686,
           "indicators": [
            218794,
            171878,
            10572,
            32581,
            124081,
            267491,
            357529,
            108924
           ],
           "popular": 130
          },
          "_type": "_doc"
         },
         {
          "_id": "213834",
          "_index": "items3",
          "_score": 7.7e-06,
          "_source": {
           "id": 213834,
           "indicators": [
            445351,
            98491,
            317816,
            277833,
            434289,
            46130
           ],
           "popular": 77
          },
          "_type": "_doc"
         },
         {
          "_id": "119736",
          "_index": "items3",
          "_score": 5.5e-06,
          "_source": {
           "id": 119736,
           "indicators": [],
           "popular": 55
          },
          "_type": "_doc"
         },
         {
          "_id": "7943",
          "_index": "items3",
          "_score": 4.4e-06,
          "_source": {
           "id": 7943,
           "indicators": [],
           "popular": 44
          },
          "_type": "_doc"
         },
         {
          "_id": "445351",
          "_index": "items3",
          "_score": 4.1e-06,
          "_source": {
           "id": 445351,
           "indicators": [
            213834
           ],
           "popular": 41
          },
          "_type": "_doc"
         },
         {
          "_id": "48030",
          "_index": "items3",
          "_score": 3.9e-06,
          "_source": {
           "id": 48030,
           "indicators": [],
           "popular": 39
          },
          "_type": "_doc"
         },
         {
          "_id": "420960",
          "_index": "items3",
          "_score": 3.5e-06,
          "_source": {
           "id": 420960,
           "indicators": [],
           "popular": 35
          },
          "_type": "_doc"
         }
        ],
        "max_score": 9.200005,
        "total": {
         "relation": "gte",
         "value": 10000
        }
       },
       "timed_out": false,
       "took": 38
      },
      "text/plain": [
       "<IPython.core.display.JSON object>"
      ]
     },
     "execution_count": 95,
     "metadata": {
      "application/json": {
       "expanded": false,
       "root": "root"
      }
     },
     "output_type": "execute_result"
    }
   ],
   "source": [
    "data = {\n",
    "  \"query\": {\n",
    "    \"function_score\":{\n",
    "     \"query\": {\n",
    "      \"bool\": {\n",
    "       \"should\": [\n",
    "        { \"terms\": {\"indicators\" : [240708], \"boost\": 2}},\n",
    "        { \"constant_score\": {\"filter\" : {\"match_all\": {}}, \"boost\" : 0.000001}}\n",
    "       ]\n",
    "      }\n",
    "    },\n",
    "     \"functions\":[\n",
    "      {\n",
    "       \"filter\": {\"range\": {\"popular\": {\"gt\": 0}}},\n",
    "       \"script_score\" : {\n",
    "                 \"script\" : {\n",
    "                   \"source\": \"doc['popular'].value * 0.1\"\n",
    "                 }\n",
    "             }\n",
    "      }\n",
    "     ],\n",
    "     \"score_mode\": \"sum\",\n",
    "     \"min_score\" : 0\n",
    "    }\n",
    "  }\n",
    "}\n",
    "\n",
    "url = 'http://127.0.0.1:9200/items3/_search'\n",
    "headers = {'Content-Type':'application/x-ndjson'}\n",
    "res = requests.get(url, headers=headers, data=json.dumps(data))\n",
    "JSON(res.text, expanded=False)"
   ]
  },
  {
   "cell_type": "code",
   "execution_count": 96,
   "metadata": {},
   "outputs": [
    {
     "data": {
      "application/json": {
       "_shards": {
        "failed": 0,
        "skipped": 0,
        "successful": 1,
        "total": 1
       },
       "hits": {
        "hits": [
         {
          "_id": "346067",
          "_index": "items3",
          "_score": 2.2702143,
          "_source": {
           "id": 346067,
           "indicators": [
            305675,
            240708
           ],
           "popular": 6
          },
          "_type": "_doc"
         },
         {
          "_id": "312728",
          "_index": "items3",
          "_score": 1.4371434,
          "_source": {
           "id": 312728,
           "indicators": [
            143860,
            305675,
            156552,
            152262,
            353436,
            182157,
            454183,
            240708,
            179290
           ],
           "popular": 46
          },
          "_type": "_doc"
         },
         {
          "_id": "305675",
          "_index": "items3",
          "_score": 1.2792838,
          "_source": {
           "id": 305675,
           "indicators": [
            240708,
            346067,
            312728,
            322810,
            176106,
            122219,
            338427,
            281212,
            306396,
            238766,
            253615,
            303960,
            446820,
            346384,
            99907,
            161354
           ],
           "popular": 7
          },
          "_type": "_doc"
         },
         {
          "_id": "461686",
          "_index": "items3",
          "_score": 1.442695e-06,
          "_source": {
           "id": 461686,
           "indicators": [
            218794,
            171878,
            10572,
            32581,
            124081,
            267491,
            357529,
            108924
           ],
           "popular": 130
          },
          "_type": "_doc"
         },
         {
          "_id": "441852",
          "_index": "items3",
          "_score": 1.3036133e-06,
          "_source": {
           "id": 441852,
           "indicators": [],
           "popular": 24
          },
          "_type": "_doc"
         },
         {
          "_id": "417927",
          "_index": "items3",
          "_score": 1.2878025e-06,
          "_source": {
           "id": 417927,
           "indicators": [
            242314,
            105870
           ],
           "popular": 18
          },
          "_type": "_doc"
         },
         {
          "_id": "9877",
          "_index": "items3",
          "_score": 1.2454312e-06,
          "_source": {
           "id": 9877,
           "indicators": [],
           "popular": 20
          },
          "_type": "_doc"
         },
         {
          "_id": "7943",
          "_index": "items3",
          "_score": 1.2355473e-06,
          "_source": {
           "id": 7943,
           "indicators": [],
           "popular": 44
          },
          "_type": "_doc"
         },
         {
          "_id": "119736",
          "_index": "items3",
          "_score": 1.2341644e-06,
          "_source": {
           "id": 119736,
           "indicators": [],
           "popular": 55
          },
          "_type": "_doc"
         },
         {
          "_id": "438484",
          "_index": "items3",
          "_score": 1.2324862e-06,
          "_source": {
           "id": 438484,
           "indicators": [],
           "popular": 11
          },
          "_type": "_doc"
         }
        ],
        "max_score": 2.2702143,
        "total": {
         "relation": "gte",
         "value": 10000
        }
       },
       "timed_out": false,
       "took": 81
      },
      "text/plain": [
       "<IPython.core.display.JSON object>"
      ]
     },
     "execution_count": 96,
     "metadata": {
      "application/json": {
       "expanded": false,
       "root": "root"
      }
     },
     "output_type": "execute_result"
    }
   ],
   "source": [
    "data = {\n",
    "  \"query\": {\n",
    "    \"function_score\":{\n",
    "     \"query\": {\n",
    "      \"bool\": {\n",
    "       \"should\": [\n",
    "        { \"terms\": {\"indicators\" : [240708], \"boost\": 2}},\n",
    "        { \"constant_score\": {\"filter\" : {\"match_all\": {}}, \"boost\" : 0.000001}}\n",
    "       ]\n",
    "      }\n",
    "    },\n",
    "     \"functions\":[\n",
    "      {\n",
    "       \"filter\": {\"range\": {\"popular\": {\"gt\": 1}}},\n",
    "       \"script_score\" : {\n",
    "                 \"script\" : {\n",
    "                   \"source\": \"0.1 * Math.log(doc['popular'].value)\"\n",
    "                 }\n",
    "             }\n",
    "      },\n",
    "      {\n",
    "       \"filter\": {\"match_all\": {}},\n",
    "       \"random_score\": {}\n",
    "      }\n",
    "     ],\n",
    "     \"score_mode\": \"sum\",\n",
    "     \"min_score\" : 0\n",
    "    }\n",
    "  }\n",
    "}\n",
    "\n",
    "url = 'http://127.0.0.1:9200/items3/_search'\n",
    "headers = {'Content-Type':'application/x-ndjson'}\n",
    "res = requests.get(url, headers=headers, data=json.dumps(data))\n",
    "JSON(res.text, expanded=False)"
   ]
  },
  {
   "cell_type": "code",
   "execution_count": null,
   "metadata": {},
   "outputs": [],
   "source": []
  }
 ],
 "metadata": {
  "kernelspec": {
   "display_name": "Python 3",
   "language": "python",
   "name": "python3"
  },
  "language_info": {
   "codemirror_mode": {
    "name": "ipython",
    "version": 3
   },
   "file_extension": ".py",
   "mimetype": "text/x-python",
   "name": "python",
   "nbconvert_exporter": "python",
   "pygments_lexer": "ipython3",
   "version": "3.7.3"
  }
 },
 "nbformat": 4,
 "nbformat_minor": 4
}
