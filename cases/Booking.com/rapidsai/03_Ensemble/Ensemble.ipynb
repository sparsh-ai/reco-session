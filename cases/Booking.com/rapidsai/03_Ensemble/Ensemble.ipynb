{
 "cells": [
  {
   "cell_type": "markdown",
   "metadata": {},
   "source": [
    "The MIT License (MIT)\n",
    "\n",
    "Copyright (c) 2021 NVIDIA CORPORATION\n",
    "\n",
    "Permission is hereby granted, free of charge, to any person obtaining a copy of\n",
    "this software and associated documentation files (the \"Software\"), to deal in\n",
    "the Software without restriction, including without limitation the rights to\n",
    "use, copy, modify, merge, publish, distribute, sublicense, and/or sell copies of\n",
    "the Software, and to permit persons to whom the Software is furnished to do so,\n",
    "subject to the following conditions:\n",
    "\n",
    "The above copyright notice and this permission notice shall be included in all\n",
    "copies or substantial portions of the Software.\n",
    "\n",
    "THE SOFTWARE IS PROVIDED \"AS IS\", WITHOUT WARRANTY OF ANY KIND, EXPRESS OR\n",
    "IMPLIED, INCLUDING BUT NOT LIMITED TO THE WARRANTIES OF MERCHANTABILITY, FITNESS\n",
    "FOR A PARTICULAR PURPOSE AND NONINFRINGEMENT. IN NO EVENT SHALL THE AUTHORS OR\n",
    "COPYRIGHT HOLDERS BE LIABLE FOR ANY CLAIM, DAMAGES OR OTHER LIABILITY, WHETHER\n",
    "IN AN ACTION OF CONTRACT, TORT OR OTHERWISE, ARISING FROM, OUT OF OR IN\n",
    "CONNECTION WITH THE SOFTWARE OR THE USE OR OTHER DEALINGS IN THE SOFTWARE."
   ]
  },
  {
   "cell_type": "markdown",
   "metadata": {},
   "source": [
    "# Ensemble MLP-SMF, GRU-MS-SMF and XLNet-SMF"
   ]
  },
  {
   "cell_type": "code",
   "execution_count": null,
   "metadata": {},
   "outputs": [],
   "source": [
    "import os, sys\n",
    "os.environ[\"CUDA_VISIBLE_DEVICES\"]=\"0\"\n",
    "\n",
    "# ENSEMBLE VERSION NUMBER\n",
    "VER_E = 22\n",
    "\n",
    "# ENSEMBLE\n",
    "TRANSFORMER_PATH = '</path/to/xlnet-smf-output>'\n",
    "MLP_PATH = '../02_Models/MLP_SMF/'\n",
    "GRU_PATH = '</path/to/gru-sm-smf-output>'"
   ]
  },
  {
   "cell_type": "code",
   "execution_count": null,
   "metadata": {},
   "outputs": [],
   "source": [
    "import pandas as pd, numpy as np\n",
    "import matplotlib.pyplot as plt\n",
    "from sklearn.model_selection import GroupKFold\n",
    "pd.set_option('display.max_columns', None)\n",
    "\n",
    "pd.__version__"
   ]
  },
  {
   "cell_type": "markdown",
   "metadata": {},
   "source": [
    "# Metric Calculation"
   ]
  },
  {
   "cell_type": "code",
   "execution_count": null,
   "metadata": {},
   "outputs": [],
   "source": [
    "# Return top4 metric\n",
    "# istest: flag to select if metric should be computed in 0:train, 1:test, -1:both\n",
    "# pos: select which city to calculate the metric, 0: last, 1: last-1, 2:last-2 , -1: all\n",
    "# the input `val` dataframe must contains the target `city_id` and the 4 recommendations as: rec0, res1, rec2 and rec3\n",
    "\n",
    "def top4_metric( val, istest=0, pos=0 , target='city_id'):\n",
    "    \n",
    "    if istest>=0:\n",
    "        val = val.loc[ (val.submission==0) & (val.istest == istest) ]\n",
    "    else:\n",
    "        val = val.loc[ (val.submission==0) ]\n",
    "\n",
    "    if pos >= 0:\n",
    "        top1 = val.loc[val.icount==pos,target] == val.loc[val.icount==pos,'rec0']\n",
    "        top2 = val.loc[val.icount==pos,target] == val.loc[val.icount==pos,'rec1']\n",
    "        top3 = val.loc[val.icount==pos,target] == val.loc[val.icount==pos,'rec2']\n",
    "        top4 = val.loc[val.icount==pos,target] == val.loc[val.icount==pos,'rec3']\n",
    "    else:\n",
    "        top1 = val[target] == val['rec0']\n",
    "        top2 = val[target] == val['rec1']\n",
    "        top3 = val[target] == val['rec2']\n",
    "        top4 = val[target] == val['rec3']\n",
    "        \n",
    "    return (top1|top2|top3|top4).mean()    "
   ]
  },
  {
   "cell_type": "markdown",
   "metadata": {},
   "source": [
    "# Load Data"
   ]
  },
  {
   "cell_type": "code",
   "execution_count": null,
   "metadata": {},
   "outputs": [],
   "source": [
    "%%time\n",
    "raw = pd.read_csv('../00_Data/train_and_test.csv')\n",
    "print(raw.shape)"
   ]
  },
  {
   "cell_type": "code",
   "execution_count": null,
   "metadata": {},
   "outputs": [],
   "source": [
    "t_ct = raw.city_id.max()+1\n",
    "t_ct"
   ]
  },
  {
   "cell_type": "markdown",
   "metadata": {},
   "source": [
    "# Predict Full OOF"
   ]
  },
  {
   "cell_type": "code",
   "execution_count": null,
   "metadata": {},
   "outputs": [],
   "source": [
    "# XLNet-SMF MODEL SOFTMAX OOF\n",
    "TOP_K = 50\n",
    "\n",
    "dfs = []\n",
    "for k in range(5):\n",
    "    df = pd.read_csv(f'{TRANSFORMER_PATH}bag_{k}/valid_preds_oof.csv')\n",
    "    df = df.set_index('utrip_id')\n",
    "    df = df[ [f'city_id_{x}' for x in range(1,TOP_K+1)] + [f'city_score_{x}' for x in range(1,TOP_K+1)] ]\n",
    "    dfs.append(df)\n",
    "dfs[0].head()"
   ]
  },
  {
   "cell_type": "code",
   "execution_count": null,
   "metadata": {},
   "outputs": [],
   "source": [
    "# MLP-SMF MODEL SOFTMAX OOF\n",
    "df2 = pd.read_csv(f'{MLP_PATH}cpmp_train_oof.csv')\n",
    "df2 = df2.set_index('utrip_id')\n",
    "df2 = df2[ [f'rec{x}' for x in range(TOP_K)] + [f'prob{x}' for x in range(TOP_K)] ]\n",
    "df2.head()"
   ]
  },
  {
   "cell_type": "code",
   "execution_count": null,
   "metadata": {},
   "outputs": [],
   "source": [
    "# GRU-SM-SMF MODEL SOFTMAX OOF\n",
    "df3 = pd.read_csv(f'{GRU_PATH}MLP-RNN_train_and_test_7runs_v0.csv')\n",
    "df3 = df3.set_index('utrip_id')\n",
    "df3 = df3[ [f'city_id_{x}' for x in range(1,TOP_K+1)] + [f'city_score_{x}' for x in range(1,TOP_K+1)] ]\n",
    "df3.head()"
   ]
  },
  {
   "cell_type": "code",
   "execution_count": null,
   "metadata": {
    "scrolled": true
   },
   "outputs": [],
   "source": [
    "# PREDICT IN CHUNKS\n",
    "CHUNK = 1024*4\n",
    "    \n",
    "valid = []\n",
    "\n",
    "# 5 FOLD VALIDATION\n",
    "for fold in range(5):\n",
    "    print('#'*25)\n",
    "    print('### FOLD %i'%(fold+1))\n",
    "    \n",
    "    # ONLY VALIDATE ON LAST CITY TRAIN\n",
    "    test = raw.loc[ (raw.fold==fold)&(raw.istest==0)&(raw.icount==0)&(raw.N>=4) ].copy()\n",
    "        \n",
    "    print('### valid shape', test.shape )\n",
    "    print('#'*25)\n",
    "\n",
    "    test.reset_index(drop=True,inplace=True)\n",
    "    TOP4 = np.zeros((test.shape[0],4))\n",
    "\n",
    "    print( test.shape )\n",
    "    for k in range(test.shape[0]//CHUNK + 1):\n",
    "        \n",
    "        a = k*CHUNK\n",
    "        b = (k+1)*CHUNK\n",
    "        b = min(test.shape[0],b)\n",
    "        \n",
    "        preds = np.zeros((b-a,t_ct))\n",
    "        print('Fold %i Chunk %i to %i'%(fold+1,a,b))\n",
    "                        \n",
    "        # ENSEMBLE WITH GRU-SM-SMF\n",
    "        idx = test['utrip_id'].iloc[a:b].values\n",
    "        preds4 = np.zeros_like(preds)\n",
    "        gru = df3.loc[idx].values\n",
    "        for j in range(preds4.shape[0]):\n",
    "            col_idx = gru[j,:TOP_K].astype('int')\n",
    "            preds4[j,col_idx] = gru[j,TOP_K:]\n",
    "        \n",
    "        # ENSEMBLE WITH XLNet-SMF\n",
    "        idx = test['utrip_id'].iloc[a:b].values\n",
    "        preds2 = np.zeros_like(preds)\n",
    "            \n",
    "        for j in range(5):\n",
    "            xlnet = dfs[j].loc[idx].values\n",
    "            for i in range(preds2.shape[0]):\n",
    "                col_idx = xlnet[i,:TOP_K].astype('int')\n",
    "                preds2[i,col_idx] += xlnet[i,TOP_K:]\n",
    "        preds2 /= 5.0\n",
    "            \n",
    "        # ENSEMBLE WITH MLP-SMF\n",
    "        idx = test['utrip_id'].iloc[a:b].values\n",
    "        preds3 = np.zeros_like(preds)\n",
    "        mlp = df2.loc[idx].values\n",
    "        for j in range(preds3.shape[0]):\n",
    "            col_idx = mlp[j,:TOP_K].astype('int')\n",
    "            preds3[j,col_idx] = mlp[j,TOP_K:]\n",
    "            \n",
    "        preds = 0.32*preds4 + 0.34*preds2 + 0.34*preds3\n",
    "                \n",
    "        for i in range(4):\n",
    "            x = np.argmax(preds,axis=1)\n",
    "            TOP4[a:b,i] = x\n",
    "            for j in range(preds.shape[0]):\n",
    "                preds[j,x[j]] = -1\n",
    "                                                                \n",
    "    for k in range(4):\n",
    "        test['rec%i'%k] = TOP4[:,k].astype('int')\n",
    "    valid.append(test)"
   ]
  },
  {
   "cell_type": "code",
   "execution_count": null,
   "metadata": {},
   "outputs": [],
   "source": [
    "valid = pd.concat(valid,axis=0,ignore_index=True)"
   ]
  },
  {
   "cell_type": "code",
   "execution_count": null,
   "metadata": {},
   "outputs": [],
   "source": [
    "# VALIDATION LAST CITY - FULL OOF\n",
    "top4_metric( valid, 0, 0, target='city_id' )"
   ]
  },
  {
   "cell_type": "markdown",
   "metadata": {},
   "source": [
    "# Predict Test Last City Data - 5 Folds - Submission.csv"
   ]
  },
  {
   "cell_type": "code",
   "execution_count": null,
   "metadata": {},
   "outputs": [],
   "source": [
    "test = raw.loc[ (raw.istest==1)&(raw.icount==0) ].copy()\n",
    "print( test.shape )\n",
    "test.head()"
   ]
  },
  {
   "cell_type": "code",
   "execution_count": null,
   "metadata": {},
   "outputs": [],
   "source": [
    "# XLNet-SMF MODEL SOFTMAX PREDS\n",
    "dfs = []\n",
    "for k in range(5):\n",
    "    for j in range(5):\n",
    "        df = pd.read_csv(f'{TRANSFORMER_PATH}bag_{k}/test_preds_fold_{j}.csv')\n",
    "        df = df.set_index('utrip_id')\n",
    "        df = df[ [f'city_id_{x}' for x in range(1,TOP_K+1)] + [f'city_score_{x}' for x in range(1,TOP_K+1)] ]\n",
    "        dfs.append(df)\n",
    "dfs[0].head()"
   ]
  },
  {
   "cell_type": "code",
   "execution_count": null,
   "metadata": {},
   "outputs": [],
   "source": [
    "# MLP-SMF MODEL SOFTMAX PREDS\n",
    "df2 = pd.read_csv(f'{MLP_PATH}cpmp_test_final_fixed.csv')\n",
    "df2 = df2.set_index('utrip_id')\n",
    "df2 = df2[ [f'rec{x}' for x in range(TOP_K)] + [f'prob{x}' for x in range(TOP_K)] ]\n",
    "df2.head()"
   ]
  },
  {
   "cell_type": "code",
   "execution_count": null,
   "metadata": {},
   "outputs": [],
   "source": [
    "# GRU-MS-SMF MODEL SOFTMAX PREDS\n",
    "df3 = pd.read_csv(f'{GRU_PATH}MLP-RNN_train_and_test_7runs_v0.csv')\n",
    "df3 = df3.set_index('utrip_id')\n",
    "df3 = df3[ [f'city_id_{x}' for x in range(1,TOP_K+1)] + [f'city_score_{x}' for x in range(1,TOP_K+1)] ]\n",
    "df3.head()"
   ]
  },
  {
   "cell_type": "code",
   "execution_count": null,
   "metadata": {
    "scrolled": true
   },
   "outputs": [],
   "source": [
    "# PREDICT IN CHUNKS\n",
    "CHUNK = 1024*8\n",
    "test.reset_index(drop=True,inplace=True)\n",
    "\n",
    "TOP4 = np.zeros((test.shape[0],4))\n",
    "\n",
    "print( test.shape )\n",
    "for k in range(test.shape[0]//CHUNK + 1):\n",
    "\n",
    "    a = k*CHUNK\n",
    "    b = (k+1)*CHUNK\n",
    "    b = min(test.shape[0],b)\n",
    "    \n",
    "    preds = np.zeros((b-a,t_ct))\n",
    "    \n",
    "    # ENSEMBLE WITH GRU-SM-SMF\n",
    "    print('GRU Chunk %i to %i'%(a,b))\n",
    "    idx = test['utrip_id'].iloc[a:b].values\n",
    "    preds3 = np.zeros_like(preds)\n",
    "    gru = df3.loc[idx].values\n",
    "    for i in range(preds3.shape[0]):\n",
    "        col_idx = gru[i,:TOP_K].astype('int')\n",
    "        preds3[i,col_idx] += gru[i,TOP_K:]\n",
    "                \n",
    "    # ENSEMBLE WITH XLNet-SMF\n",
    "    print('XLNet Chunk %i to %i'%(a,b))\n",
    "    idx = test['utrip_id'].iloc[a:b].values\n",
    "    preds2 = np.zeros_like(preds)\n",
    "    for j in range(25):\n",
    "        xlnet = dfs[j].loc[idx].values\n",
    "        for i in range(preds2.shape[0]):\n",
    "            col_idx = xlnet[i,:TOP_K].astype('int')\n",
    "            preds2[i,col_idx] += xlnet[i,TOP_K:]\n",
    "    preds2 /= 25.\n",
    "        \n",
    "    # ENSEMBLE WITH MLP-SMF\n",
    "    print('MLP Chunk %i to %i'%(a,b))\n",
    "    idx = test['utrip_id'].iloc[a:b].values\n",
    "    preds4 = np.zeros_like(preds)\n",
    "    mlp = df2.loc[idx].values\n",
    "    for i in range(preds4.shape[0]):\n",
    "        col_idx = mlp[i,:TOP_K].astype('int')\n",
    "        preds4[i,col_idx] += mlp[i,TOP_K:]\n",
    "        \n",
    "    preds = 0.32*preds3 + 0.34*preds2 + 0.34*preds4\n",
    "        \n",
    "    for i in range(4):\n",
    "        x = np.argmax(preds,axis=1)\n",
    "        TOP4[a:b,i] = x\n",
    "        for j in range(preds.shape[0]):\n",
    "            preds[j,x[j]] = -1"
   ]
  },
  {
   "cell_type": "code",
   "execution_count": null,
   "metadata": {},
   "outputs": [],
   "source": [
    "COLS = ['utrip_id']\n",
    "for k in range(4):\n",
    "    test['city_id_%i'%(k+1)] = TOP4[:,k].astype('int')\n",
    "    COLS.append('city_id_%i'%(k+1))"
   ]
  },
  {
   "cell_type": "code",
   "execution_count": null,
   "metadata": {},
   "outputs": [],
   "source": [
    "test[COLS].head()"
   ]
  },
  {
   "cell_type": "code",
   "execution_count": null,
   "metadata": {},
   "outputs": [],
   "source": [
    "test[COLS].to_csv('final-sub-ensemble-v%i.csv'%VER_E,index=False)"
   ]
  }
 ],
 "metadata": {
  "kernelspec": {
   "display_name": "Python 3",
   "language": "python",
   "name": "python3"
  },
  "language_info": {
   "codemirror_mode": {
    "name": "ipython",
    "version": 3
   },
   "file_extension": ".py",
   "mimetype": "text/x-python",
   "name": "python",
   "nbconvert_exporter": "python",
   "pygments_lexer": "ipython3",
   "version": "3.7.8"
  }
 },
 "nbformat": 4,
 "nbformat_minor": 4
}
