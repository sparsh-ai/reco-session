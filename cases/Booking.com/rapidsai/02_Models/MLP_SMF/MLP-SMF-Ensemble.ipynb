{
 "cells": [
  {
   "cell_type": "markdown",
   "metadata": {},
   "source": [
    "The MIT License (MIT)\n",
    "\n",
    "Copyright (c) 2021 NVIDIA CORPORATION\n",
    "\n",
    "Permission is hereby granted, free of charge, to any person obtaining a copy of\n",
    "this software and associated documentation files (the \"Software\"), to deal in\n",
    "the Software without restriction, including without limitation the rights to\n",
    "use, copy, modify, merge, publish, distribute, sublicense, and/or sell copies of\n",
    "the Software, and to permit persons to whom the Software is furnished to do so,\n",
    "subject to the following conditions:\n",
    "\n",
    "The above copyright notice and this permission notice shall be included in all\n",
    "copies or substantial portions of the Software.\n",
    "\n",
    "THE SOFTWARE IS PROVIDED \"AS IS\", WITHOUT WARRANTY OF ANY KIND, EXPRESS OR\n",
    "IMPLIED, INCLUDING BUT NOT LIMITED TO THE WARRANTIES OF MERCHANTABILITY, FITNESS\n",
    "FOR A PARTICULAR PURPOSE AND NONINFRINGEMENT. IN NO EVENT SHALL THE AUTHORS OR\n",
    "COPYRIGHT HOLDERS BE LIABLE FOR ANY CLAIM, DAMAGES OR OTHER LIABILITY, WHETHER\n",
    "IN AN ACTION OF CONTRACT, TORT OR OTHERWISE, ARISING FROM, OUT OF OR IN\n",
    "CONNECTION WITH THE SOFTWARE OR THE USE OR OTHER DEALINGS IN THE SOFTWARE."
   ]
  },
  {
   "cell_type": "code",
   "execution_count": null,
   "metadata": {},
   "outputs": [],
   "source": [
    "fnames = ['cpmp_0' + str(i) for i in range(89, 98) if i != 95]\n",
    "fnames"
   ]
  },
  {
   "cell_type": "raw",
   "metadata": {},
   "source": [
    "oof = {\n",
    "    'valid_trips':valid_trips,\n",
    "    'top_preds':top_preds,\n",
    "    'top_logits':top_logits,\n",
    "    'top_test_preds':top_test_preds,\n",
    "    'top_test_logits':top_test_logits,\n",
    "    'city_map':CITY_MAP,\n",
    "    'valid_cities':valid_cities,\n",
    "    'preds_all':preds_all,\n",
    "    'test_preds_all':test_preds_all,\n",
    "}\n"
   ]
  },
  {
   "cell_type": "code",
   "execution_count": null,
   "metadata": {},
   "outputs": [],
   "source": [
    "import numpy as np\n",
    "import pandas as pd\n",
    "import pickle as pkl\n",
    "from tqdm import tqdm\n",
    "from scipy.special import expit, logit\n",
    "pd.options.display.max_columns = 200"
   ]
  },
  {
   "cell_type": "code",
   "execution_count": null,
   "metadata": {},
   "outputs": [],
   "source": [
    "oof = {}\n",
    "for fname in tqdm(fnames):\n",
    "    with open ('./checkpoints/%s/%s_oof.pkl' % (fname, fname), 'rb') as file:\n",
    "        oof[fname] = pkl.load(file)\n"
   ]
  },
  {
   "cell_type": "code",
   "execution_count": null,
   "metadata": {},
   "outputs": [],
   "source": [
    "for fname in fnames:\n",
    "    print(fname, oof[fname]['city_map'].shape)"
   ]
  },
  {
   "cell_type": "code",
   "execution_count": null,
   "metadata": {},
   "outputs": [],
   "source": [
    "def get_topN(preds, N):\n",
    "    TOPN = np.empty((preds.shape[0], N))\n",
    "    PREDN = np.empty((preds.shape[0], N))\n",
    "    preds = preds.copy()\n",
    "    for i in tqdm(range(N)):\n",
    "        x = np.argmax(preds, axis=1)\n",
    "        TOPN[:,i] = x\n",
    "        x = np.expand_dims(x, axis=1)\n",
    "        PREDN[:,i] = np.take_along_axis(preds, x, axis=1).ravel()\n",
    "        np.put_along_axis(preds, x, -1e10, axis=1)\n",
    "    return TOPN, PREDN\n"
   ]
  },
  {
   "cell_type": "code",
   "execution_count": null,
   "metadata": {},
   "outputs": [],
   "source": [
    "CITY_MAP = oof[fname]['city_map'].to_pandas().to_dict()"
   ]
  },
  {
   "cell_type": "code",
   "execution_count": null,
   "metadata": {},
   "outputs": [],
   "source": [
    "np.vectorize(CITY_MAP.get)(top_preds)"
   ]
  },
  {
   "cell_type": "code",
   "execution_count": null,
   "metadata": {},
   "outputs": [],
   "source": [
    "valid_cities =  oof[fname]['valid_cities']"
   ]
  },
  {
   "cell_type": "code",
   "execution_count": null,
   "metadata": {},
   "outputs": [],
   "source": [
    "utrip_id =  oof[fname]['valid_trips'].ravel()\n",
    "utrip_id"
   ]
  },
  {
   "cell_type": "code",
   "execution_count": null,
   "metadata": {},
   "outputs": [],
   "source": [
    "for fname in fnames:\n",
    "    train_preds = oof[fname]['preds_all']\n",
    "    top_preds, top_logits = get_topN(train_preds.copy(), 4)\n",
    "    top_preds = top_preds[:, :11158].astype('int')\n",
    "    top_preds = np.vectorize(CITY_MAP.get)(top_preds)\n",
    "    score = np.mean(np.max(valid_cities == top_preds, axis=1))\n",
    "    print(fname, score)"
   ]
  },
  {
   "cell_type": "code",
   "execution_count": null,
   "metadata": {},
   "outputs": [],
   "source": [
    "def my_softmax(x):\n",
    "    x = x - x.max(1, keepdims=True)\n",
    "    x = np.exp(x)\n",
    "    x = x / x.sum(1, keepdims=True)\n",
    "    return x"
   ]
  },
  {
   "cell_type": "code",
   "execution_count": null,
   "metadata": {},
   "outputs": [],
   "source": [
    "train_preds = 0\n",
    "for fname in tqdm(fnames):\n",
    "    train_preds = train_preds + oof[fname]['preds_all'][:, :11158]\n",
    "    \n",
    "train_preds = my_softmax(train_preds / len(fnames))\n",
    "\n",
    "\n",
    "top_preds, top_logits = get_topN(train_preds.copy(), 4)\n",
    "\n",
    "\n",
    "top_preds = top_preds.astype('int')\n",
    "\n",
    "top_preds = np.vectorize(CITY_MAP.get)(top_preds)\n",
    "\n",
    "top_preds\n",
    "\n",
    "np.mean(np.max(valid_cities == top_preds, axis=1))"
   ]
  },
  {
   "cell_type": "code",
   "execution_count": null,
   "metadata": {},
   "outputs": [],
   "source": [
    "top_preds, top_logits = get_topN(train_preds.copy(), 50)\n",
    "top_preds = top_preds.astype('int')"
   ]
  },
  {
   "cell_type": "code",
   "execution_count": null,
   "metadata": {},
   "outputs": [],
   "source": [
    "train_oof = pd.DataFrame({'utrip_id':utrip_id})\n",
    "train_oof"
   ]
  },
  {
   "cell_type": "code",
   "execution_count": null,
   "metadata": {},
   "outputs": [],
   "source": [
    "for i in tqdm(range(50)):\n",
    "    colname = 'rec%d' % i\n",
    "    train_oof[colname] = np.vectorize(CITY_MAP.get)(top_preds[:, i])"
   ]
  },
  {
   "cell_type": "code",
   "execution_count": null,
   "metadata": {},
   "outputs": [],
   "source": [
    "for i in tqdm(range(50)):\n",
    "    colname = 'prob%d' % i\n",
    "    train_oof[colname] = top_logits[:, i]"
   ]
  },
  {
   "cell_type": "code",
   "execution_count": null,
   "metadata": {},
   "outputs": [],
   "source": [
    "train_oof"
   ]
  },
  {
   "cell_type": "code",
   "execution_count": null,
   "metadata": {},
   "outputs": [],
   "source": [
    "train_oof.to_csv('./cpmp_train_oof.csv', index=False)"
   ]
  },
  {
   "cell_type": "code",
   "execution_count": null,
   "metadata": {
    "scrolled": true
   },
   "outputs": [],
   "source": [
    "test_final = pd.read_csv('test_final.csv')\n",
    "test_final"
   ]
  },
  {
   "cell_type": "code",
   "execution_count": null,
   "metadata": {},
   "outputs": [],
   "source": [
    "test_final = test_final[['utrip_id']].copy()\n",
    "test_final"
   ]
  },
  {
   "cell_type": "code",
   "execution_count": null,
   "metadata": {},
   "outputs": [],
   "source": [
    "test_preds = 0\n",
    "for fname in tqdm(fnames):\n",
    "    test_preds = test_preds + oof[fname]['test_preds_all'][:, :11158]\n",
    "    \n",
    "test_preds = my_softmax(5 * test_preds / len(fnames))  # fix bug\n",
    "\n",
    "top_preds, top_logits = get_topN(test_preds.copy(), 50)\n",
    "top_preds = top_preds.astype('int')\n",
    "\n",
    "for i in tqdm(range(50)):\n",
    "    colname = 'rec%d' % i\n",
    "    test_final[colname] = np.vectorize(CITY_MAP.get)(top_preds[:, i])\n",
    "for i in tqdm(range(50)):\n",
    "    colname = 'prob%d' % i\n",
    "    test_final[colname] = top_logits[:, i]"
   ]
  },
  {
   "cell_type": "code",
   "execution_count": null,
   "metadata": {},
   "outputs": [],
   "source": [
    "test_final"
   ]
  },
  {
   "cell_type": "code",
   "execution_count": null,
   "metadata": {},
   "outputs": [],
   "source": [
    "test_final.to_csv('./cpmp_test_final_fixed.csv', index=False)"
   ]
  },
  {
   "cell_type": "code",
   "execution_count": null,
   "metadata": {},
   "outputs": [],
   "source": [
    "_ = plt.hist(oof['cpmp_093']['preds_all'][:10000].ravel().clip(-50, 50), bins=100, log=True)"
   ]
  },
  {
   "cell_type": "code",
   "execution_count": null,
   "metadata": {},
   "outputs": [],
   "source": [
    "_ = plt.hist(oof['cpmp_097']['test_preds_all'][:10000].ravel().clip(-10, 10)*5, bins=100)"
   ]
  },
  {
   "cell_type": "code",
   "execution_count": null,
   "metadata": {},
   "outputs": [],
   "source": []
  }
 ],
 "metadata": {
  "kernelspec": {
   "display_name": "firstEnv",
   "language": "python",
   "name": "firstenv"
  },
  "language_info": {
   "codemirror_mode": {
    "name": "ipython",
    "version": 3
   },
   "file_extension": ".py",
   "mimetype": "text/x-python",
   "name": "python",
   "nbconvert_exporter": "python",
   "pygments_lexer": "ipython3",
   "version": "3.7.8"
  }
 },
 "nbformat": 4,
 "nbformat_minor": 4
}
