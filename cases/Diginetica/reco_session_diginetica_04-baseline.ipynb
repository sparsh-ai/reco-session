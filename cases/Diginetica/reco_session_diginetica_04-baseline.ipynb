{
 "cells": [
  {
   "cell_type": "code",
   "execution_count": 4,
   "metadata": {},
   "outputs": [],
   "source": [
    "import numpy as np\n",
    "import pandas as pd\n",
    "import datetime\n",
    "import os"
   ]
  },
  {
   "cell_type": "code",
   "execution_count": 5,
   "metadata": {},
   "outputs": [],
   "source": [
    "dataset_path = './data/raw'"
   ]
  },
  {
   "cell_type": "code",
   "execution_count": 9,
   "metadata": {},
   "outputs": [
    {
     "name": "stdout",
     "output_type": "stream",
     "text": [
      "Total queries 923127\n"
     ]
    },
    {
     "data": {
      "text/html": [
       "<div>\n",
       "<style scoped>\n",
       "    .dataframe tbody tr th:only-of-type {\n",
       "        vertical-align: middle;\n",
       "    }\n",
       "\n",
       "    .dataframe tbody tr th {\n",
       "        vertical-align: top;\n",
       "    }\n",
       "\n",
       "    .dataframe thead th {\n",
       "        text-align: right;\n",
       "    }\n",
       "</style>\n",
       "<table border=\"1\" class=\"dataframe\">\n",
       "  <thead>\n",
       "    <tr style=\"text-align: right;\">\n",
       "      <th></th>\n",
       "      <th>queryId</th>\n",
       "      <th>items</th>\n",
       "      <th>is.test</th>\n",
       "    </tr>\n",
       "  </thead>\n",
       "  <tbody>\n",
       "    <tr>\n",
       "      <th>0</th>\n",
       "      <td>1</td>\n",
       "      <td>7518,71,30311,7837,30792,8252,81766,9338,62220...</td>\n",
       "      <td>False</td>\n",
       "    </tr>\n",
       "    <tr>\n",
       "      <th>1</th>\n",
       "      <td>2</td>\n",
       "      <td>70095,15964,8627,134850,32754,100747,74771,314...</td>\n",
       "      <td>False</td>\n",
       "    </tr>\n",
       "    <tr>\n",
       "      <th>2</th>\n",
       "      <td>3</td>\n",
       "      <td>59081,51125,9338,9550,32087,62793,2717,10403,3...</td>\n",
       "      <td>True</td>\n",
       "    </tr>\n",
       "    <tr>\n",
       "      <th>3</th>\n",
       "      <td>4</td>\n",
       "      <td>46632,57465,79064,57748,6080,35997,47088,6078,...</td>\n",
       "      <td>False</td>\n",
       "    </tr>\n",
       "    <tr>\n",
       "      <th>4</th>\n",
       "      <td>5</td>\n",
       "      <td>27312,84626,12621,46209,5140,57539,5368,12923,...</td>\n",
       "      <td>False</td>\n",
       "    </tr>\n",
       "  </tbody>\n",
       "</table>\n",
       "</div>"
      ],
      "text/plain": [
       "   queryId                                              items  is.test\n",
       "0        1  7518,71,30311,7837,30792,8252,81766,9338,62220...    False\n",
       "1        2  70095,15964,8627,134850,32754,100747,74771,314...    False\n",
       "2        3  59081,51125,9338,9550,32087,62793,2717,10403,3...     True\n",
       "3        4  46632,57465,79064,57748,6080,35997,47088,6078,...    False\n",
       "4        5  27312,84626,12621,46209,5140,57539,5368,12923,...    False"
      ]
     },
     "execution_count": 9,
     "metadata": {},
     "output_type": "execute_result"
    }
   ],
   "source": [
    "queries = pd.read_csv(os.path.join(dataset_path,'train-queries.csv'),\n",
    "                      sep=';',\n",
    "                      low_memory=False,\n",
    "                      usecols=['queryId', 'items', 'is.test'])\n",
    "print('Total queries', len(queries))\n",
    "queries.head()"
   ]
  },
  {
   "cell_type": "code",
   "execution_count": 10,
   "metadata": {},
   "outputs": [
    {
     "name": "stdout",
     "output_type": "stream",
     "text": [
      "Test queries 286967\n"
     ]
    }
   ],
   "source": [
    "# Leaving only test queries (the ones which items we have to sort)\n",
    "queries = queries[queries['is.test'] == True][['queryId', 'items']]\n",
    "queries.reset_index(drop=True, inplace=True)\n",
    "print('Test queries', len(queries))"
   ]
  },
  {
   "cell_type": "code",
   "execution_count": 11,
   "metadata": {},
   "outputs": [
    {
     "name": "stdout",
     "output_type": "stream",
     "text": [
      "Item views 1235380\n"
     ]
    },
    {
     "data": {
      "text/html": [
       "<div>\n",
       "<style scoped>\n",
       "    .dataframe tbody tr th:only-of-type {\n",
       "        vertical-align: middle;\n",
       "    }\n",
       "\n",
       "    .dataframe tbody tr th {\n",
       "        vertical-align: top;\n",
       "    }\n",
       "\n",
       "    .dataframe thead th {\n",
       "        text-align: right;\n",
       "    }\n",
       "</style>\n",
       "<table border=\"1\" class=\"dataframe\">\n",
       "  <thead>\n",
       "    <tr style=\"text-align: right;\">\n",
       "      <th></th>\n",
       "      <th>itemId</th>\n",
       "    </tr>\n",
       "  </thead>\n",
       "  <tbody>\n",
       "    <tr>\n",
       "      <th>0</th>\n",
       "      <td>81766</td>\n",
       "    </tr>\n",
       "    <tr>\n",
       "      <th>1</th>\n",
       "      <td>31331</td>\n",
       "    </tr>\n",
       "    <tr>\n",
       "      <th>2</th>\n",
       "      <td>32118</td>\n",
       "    </tr>\n",
       "    <tr>\n",
       "      <th>3</th>\n",
       "      <td>9654</td>\n",
       "    </tr>\n",
       "    <tr>\n",
       "      <th>4</th>\n",
       "      <td>32627</td>\n",
       "    </tr>\n",
       "  </tbody>\n",
       "</table>\n",
       "</div>"
      ],
      "text/plain": [
       "   itemId\n",
       "0   81766\n",
       "1   31331\n",
       "2   32118\n",
       "3    9654\n",
       "4   32627"
      ]
     },
     "execution_count": 11,
     "metadata": {},
     "output_type": "execute_result"
    }
   ],
   "source": [
    "# Loading item views; taking itemId column\n",
    "item_views = pd.read_csv(os.path.join(dataset_path,'train-item-views.csv'),\n",
    "                      sep=';',\n",
    "                      low_memory=False,\n",
    "                      usecols=['itemId'])\n",
    "print('Item views', len(item_views))\n",
    "item_views.head()"
   ]
  },
  {
   "cell_type": "code",
   "execution_count": 12,
   "metadata": {},
   "outputs": [
    {
     "name": "stdout",
     "output_type": "stream",
     "text": [
      "Clicks 1127764\n"
     ]
    },
    {
     "data": {
      "text/html": [
       "<div>\n",
       "<style scoped>\n",
       "    .dataframe tbody tr th:only-of-type {\n",
       "        vertical-align: middle;\n",
       "    }\n",
       "\n",
       "    .dataframe tbody tr th {\n",
       "        vertical-align: top;\n",
       "    }\n",
       "\n",
       "    .dataframe thead th {\n",
       "        text-align: right;\n",
       "    }\n",
       "</style>\n",
       "<table border=\"1\" class=\"dataframe\">\n",
       "  <thead>\n",
       "    <tr style=\"text-align: right;\">\n",
       "      <th></th>\n",
       "      <th>itemId</th>\n",
       "    </tr>\n",
       "  </thead>\n",
       "  <tbody>\n",
       "    <tr>\n",
       "      <th>0</th>\n",
       "      <td>24857</td>\n",
       "    </tr>\n",
       "    <tr>\n",
       "      <th>1</th>\n",
       "      <td>30792</td>\n",
       "    </tr>\n",
       "    <tr>\n",
       "      <th>2</th>\n",
       "      <td>8252</td>\n",
       "    </tr>\n",
       "    <tr>\n",
       "      <th>3</th>\n",
       "      <td>33969</td>\n",
       "    </tr>\n",
       "    <tr>\n",
       "      <th>4</th>\n",
       "      <td>7837</td>\n",
       "    </tr>\n",
       "  </tbody>\n",
       "</table>\n",
       "</div>"
      ],
      "text/plain": [
       "   itemId\n",
       "0   24857\n",
       "1   30792\n",
       "2    8252\n",
       "3   33969\n",
       "4    7837"
      ]
     },
     "execution_count": 12,
     "metadata": {},
     "output_type": "execute_result"
    }
   ],
   "source": [
    "# Loading clicks; taking itemId column\n",
    "clicks = pd.read_csv(os.path.join(dataset_path,'train-clicks.csv'),\n",
    "                      sep=';',\n",
    "                      low_memory=False,\n",
    "                      usecols=['itemId'])\n",
    "print('Clicks', len(clicks))\n",
    "clicks.head()"
   ]
  },
  {
   "cell_type": "code",
   "execution_count": 13,
   "metadata": {},
   "outputs": [
    {
     "name": "stdout",
     "output_type": "stream",
     "text": [
      "Purchases 18025\n"
     ]
    },
    {
     "data": {
      "text/html": [
       "<div>\n",
       "<style scoped>\n",
       "    .dataframe tbody tr th:only-of-type {\n",
       "        vertical-align: middle;\n",
       "    }\n",
       "\n",
       "    .dataframe tbody tr th {\n",
       "        vertical-align: top;\n",
       "    }\n",
       "\n",
       "    .dataframe thead th {\n",
       "        text-align: right;\n",
       "    }\n",
       "</style>\n",
       "<table border=\"1\" class=\"dataframe\">\n",
       "  <thead>\n",
       "    <tr style=\"text-align: right;\">\n",
       "      <th></th>\n",
       "      <th>itemId</th>\n",
       "    </tr>\n",
       "  </thead>\n",
       "  <tbody>\n",
       "    <tr>\n",
       "      <th>0</th>\n",
       "      <td>25911</td>\n",
       "    </tr>\n",
       "    <tr>\n",
       "      <th>1</th>\n",
       "      <td>175874</td>\n",
       "    </tr>\n",
       "    <tr>\n",
       "      <th>2</th>\n",
       "      <td>35324</td>\n",
       "    </tr>\n",
       "    <tr>\n",
       "      <th>3</th>\n",
       "      <td>31233</td>\n",
       "    </tr>\n",
       "    <tr>\n",
       "      <th>4</th>\n",
       "      <td>34677</td>\n",
       "    </tr>\n",
       "  </tbody>\n",
       "</table>\n",
       "</div>"
      ],
      "text/plain": [
       "   itemId\n",
       "0   25911\n",
       "1  175874\n",
       "2   35324\n",
       "3   31233\n",
       "4   34677"
      ]
     },
     "execution_count": 13,
     "metadata": {},
     "output_type": "execute_result"
    }
   ],
   "source": [
    "# Loading purchases; taking itemId column\n",
    "purchases = pd.read_csv(os.path.join(dataset_path,'train-purchases.csv'),\n",
    "                      sep=';',\n",
    "                      low_memory=False,\n",
    "                      usecols=['itemId'])\n",
    "print('Purchases', len(purchases))\n",
    "purchases.head()"
   ]
  },
  {
   "cell_type": "code",
   "execution_count": 14,
   "metadata": {},
   "outputs": [
    {
     "name": "stdout",
     "output_type": "stream",
     "text": [
      "Scoring popularity for each item ...\n",
      "Popularity scored for 128910 products\n"
     ]
    }
   ],
   "source": [
    "# Calculating popularity as [Amount of views] * 1 + Amount of clicks * 2 + [Amount of purchases] * 3\n",
    "print('Scoring popularity for each item ...')\n",
    "prod_pop = {}\n",
    "for cost, container in enumerate([item_views, clicks, purchases]):\n",
    "    for prod in container.values:\n",
    "        product = str(prod[0])\n",
    "        if product not in prod_pop:\n",
    "            prod_pop[product] = cost\n",
    "        else:\n",
    "            prod_pop[product] += cost\n",
    "\n",
    "print('Popularity scored for', len(prod_pop), 'products')"
   ]
  },
  {
   "cell_type": "code",
   "execution_count": 4,
   "metadata": {},
   "outputs": [
    {
     "data": {
      "text/plain": [
       "(1235380, 5)"
      ]
     },
     "execution_count": 4,
     "metadata": {},
     "output_type": "execute_result"
    }
   ],
   "source": [
    "# For each query:\n",
    "#   parse items (comma-separated values in last column)\n",
    "#   sort them by score;\n",
    "#   write them to the submission file.\n",
    "# This is longest part; it usually takes around 5 minutes.\n",
    "print('Sorting items per query by popularity...')\n",
    "\n",
    "answers = []\n",
    "step = int(len(queries) / 20)\n",
    "\n",
    "with open('submission.txt', 'w+') as submission:\n",
    "    for i, q in enumerate(queries.values):\n",
    "\n",
    "        # Fancy progressbar\n",
    "        if i % step == 0:\n",
    "            print(5 * i / step, '%...')\n",
    "\n",
    "        # Splitting last column which contains comma-separated items\n",
    "        items = q[-1].split(',')\n",
    "        # Getting scores for each item. Also, inverting scores here, so we can use argsort\n",
    "        items_scores = list(map(lambda x: -prod_pop.get(x, 0), items))\n",
    "        # Sorting items using items_scores order permutation\n",
    "        sorted_items = np.array(items)[np.array(items_scores).argsort()]\n",
    "        # Squashing items together\n",
    "        s = ','.join(sorted_items)\n",
    "        # and writing them to submission\n",
    "        submission.write(str(q[0]) + \" \" + s + \"\\n\")\n",
    "\n",
    "end_time = datetime.datetime.now()\n",
    "print(\"Done. Now it's \", end_time.isoformat())\n",
    "print(\"Calculated baseline in \", (end_time - start_time).seconds, \" seconds\")"
   ]
  }
 ],
 "metadata": {
  "kernelspec": {
   "display_name": "Python 3",
   "language": "python",
   "name": "python3"
  },
  "language_info": {
   "codemirror_mode": {
    "name": "ipython",
    "version": 3
   },
   "file_extension": ".py",
   "mimetype": "text/x-python",
   "name": "python",
   "nbconvert_exporter": "python",
   "pygments_lexer": "ipython3",
   "version": "3.7.3"
  }
 },
 "nbformat": 4,
 "nbformat_minor": 4
}
